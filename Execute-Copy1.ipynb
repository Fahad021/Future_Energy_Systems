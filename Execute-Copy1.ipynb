{
 "cells": [
  {
   "cell_type": "code",
   "execution_count": 1,
   "metadata": {},
   "outputs": [],
   "source": [
    "import numpy as np\n",
    "import pandas as pd\n",
    "with open('household_power_consumption3.csv') as file:\n",
    "    data_file = pd.read_csv(file)\n",
    "    power_consumption = data_file.iloc[:,3]"
   ]
  },
  {
   "cell_type": "code",
   "execution_count": 2,
   "metadata": {},
   "outputs": [
    {
     "name": "stdout",
     "output_type": "stream",
     "text": [
      "Center data so mean is zero (subtract each data point by mean of value:  1.09623631439477 )\n",
      "Data  :  (993986, 10)\n"
     ]
    }
   ],
   "source": [
    "windowed_data = []\n",
    "# Format data into rolling window sequences\n",
    "sequence_length = 10\n",
    "prediction_steps = 5\n",
    "for index in range(len(power_consumption) - sequence_length):  # for e.g: index=0 => 123, index=1 => 234 etc.\n",
    "    windowed_data.append(power_consumption[index: index + sequence_length])\n",
    "windowed_data = np.array(windowed_data)  # shape (number of samples, sequence length)\n",
    "\n",
    "# Center data\n",
    "data_mean = windowed_data.mean()\n",
    "windowed_data -= data_mean\n",
    "print('Center data so mean is zero (subtract each data point by mean of value: ', data_mean, ')')\n",
    "print('Data  : ', windowed_data.shape)\n",
    "\n",
    "# Split data into training and testing sets\n",
    "train_set_ratio = 0.9\n",
    "row = int(round(train_set_ratio * windowed_data.shape[0]))\n",
    "train = windowed_data[:row, :]"
   ]
  },
  {
   "cell_type": "code",
   "execution_count": 3,
   "metadata": {},
   "outputs": [],
   "source": [
    "x_train = train[:, :-prediction_steps]  # remove last prediction_steps from train set\n",
    "y_train = train[:, -prediction_steps:]  # take last prediction_steps from train set\n",
    "x_test = windowed_data[row:, :-prediction_steps]\n",
    "y_test = windowed_data[row:, -prediction_steps:]  # take last prediction_steps from test set\n",
    "x_train = np.reshape(x_train, (x_train.shape[0], x_train.shape[1], 1))\n",
    "x_test = np.reshape(x_test, (x_test.shape[0], x_test.shape[1], 1))\n",
    "\n",
    "result =  [x_train, y_train, x_test, y_test, data_mean]"
   ]
  },
  {
   "cell_type": "markdown",
   "metadata": {},
   "source": [
    "## LSTM Model Setup"
   ]
  },
  {
   "cell_type": "code",
   "execution_count": 4,
   "metadata": {},
   "outputs": [
    {
     "name": "stderr",
     "output_type": "stream",
     "text": [
      "C:\\Users\\123\\Anaconda3\\lib\\site-packages\\h5py\\__init__.py:36: FutureWarning: Conversion of the second argument of issubdtype from `float` to `np.floating` is deprecated. In future, it will be treated as `np.float64 == np.dtype(float).type`.\n",
      "  from ._conv import register_converters as _register_converters\n",
      "Using TensorFlow backend.\n"
     ]
    }
   ],
   "source": [
    "import time\n",
    "from keras.layers.recurrent import LSTM\n",
    "from keras.layers.core import Activation, Dense, Dropout\n",
    "from keras.models import Sequential, load_model\n",
    "\n",
    "import matplotlib.pyplot as plt\n",
    "%matplotlib inline\n",
    "\n",
    "from numpy.random import seed\n",
    "seed(1234)  # seed random numbers for Keras\n",
    "from tensorflow import set_random_seed\n",
    "set_random_seed(2)  # seed random numbers for Tensorflow backend"
   ]
  },
  {
   "cell_type": "code",
   "execution_count": 5,
   "metadata": {},
   "outputs": [],
   "source": [
    "def build_model(prediction_steps):\n",
    "    model = Sequential()\n",
    "    layers = [1, 75, 100, prediction_steps]\n",
    "    model.add(LSTM(layers[1], input_shape=(None, layers[0]), return_sequences=True))  # add first layer\n",
    "    model.add(Dropout(0.2))  # add dropout for first layer\n",
    "    model.add(LSTM(layers[2], return_sequences=False))  # add second layer\n",
    "    model.add(Dropout(0.2))  # add dropout for second layer\n",
    "    model.add(Dense(layers[3]))  # add output layer\n",
    "    model.add(Activation('linear'))  # output layer with linear activation\n",
    "    start = time.time()\n",
    "    model.compile(loss=\"mse\", optimizer=\"rmsprop\")\n",
    "    print('Compilation Time : ', time.time() - start)\n",
    "    return model"
   ]
  },
  {
   "cell_type": "markdown",
   "metadata": {},
   "source": [
    "## LSTM Fit"
   ]
  },
  {
   "cell_type": "code",
   "execution_count": 6,
   "metadata": {},
   "outputs": [
    {
     "name": "stdout",
     "output_type": "stream",
     "text": [
      "Compilation Time :  0.06610751152038574\n",
      "Train on 849857 samples, validate on 44730 samples\n",
      "Epoch 1/50\n",
      "849857/849857 [==============================] - 202s 238us/step - loss: 0.2068 - val_loss: 0.1863\n",
      "Epoch 2/50\n",
      "849857/849857 [==============================] - 199s 234us/step - loss: 0.1992 - val_loss: 0.1860\n",
      "Epoch 3/50\n",
      "849857/849857 [==============================] - 200s 235us/step - loss: 0.1977 - val_loss: 0.1809\n",
      "Epoch 4/50\n",
      "849857/849857 [==============================] - 198s 233us/step - loss: 0.1966 - val_loss: 0.1879\n",
      "Epoch 5/50\n",
      "849857/849857 [==============================] - 198s 233us/step - loss: 0.1957 - val_loss: 0.1794\n",
      "Epoch 6/50\n",
      "849857/849857 [==============================] - 198s 233us/step - loss: 0.1951 - val_loss: 0.1805\n",
      "Epoch 7/50\n",
      "849857/849857 [==============================] - 196s 230us/step - loss: 0.1947 - val_loss: 0.1803\n",
      "Epoch 8/50\n",
      "849857/849857 [==============================] - 200s 235us/step - loss: 0.1943 - val_loss: 0.1807\n",
      "Epoch 9/50\n",
      "849857/849857 [==============================] - 196s 231us/step - loss: 0.1939 - val_loss: 0.1832\n",
      "Epoch 10/50\n",
      "849857/849857 [==============================] - 195s 229us/step - loss: 0.1936 - val_loss: 0.1793\n",
      "Epoch 11/50\n",
      "849857/849857 [==============================] - 193s 227us/step - loss: 0.1931 - val_loss: 0.1792\n",
      "Epoch 12/50\n",
      "849857/849857 [==============================] - 197s 232us/step - loss: 0.1929 - val_loss: 0.1820\n",
      "Epoch 13/50\n",
      "849857/849857 [==============================] - 203s 238us/step - loss: 0.1925 - val_loss: 0.1781\n",
      "Epoch 14/50\n",
      "849857/849857 [==============================] - 200s 236us/step - loss: 0.1922 - val_loss: 0.1769\n",
      "Epoch 15/50\n",
      "849857/849857 [==============================] - 368s 433us/step - loss: 0.1921 - val_loss: 0.1766\n",
      "Epoch 16/50\n",
      "849857/849857 [==============================] - 142s 167us/step - loss: 0.1919 - val_loss: 0.1760\n",
      "Epoch 17/50\n",
      "849857/849857 [==============================] - 133s 157us/step - loss: 0.1915 - val_loss: 0.1792\n",
      "Epoch 18/50\n",
      "849857/849857 [==============================] - 134s 157us/step - loss: 0.1911 - val_loss: 0.1773\n",
      "Epoch 19/50\n",
      "849857/849857 [==============================] - 124s 146us/step - loss: 0.1908 - val_loss: 0.1752\n",
      "Epoch 20/50\n",
      "849857/849857 [==============================] - 124s 146us/step - loss: 0.1908 - val_loss: 0.1751\n",
      "Epoch 21/50\n",
      "849857/849857 [==============================] - 123s 145us/step - loss: 0.1907 - val_loss: 0.1791\n",
      "Epoch 22/50\n",
      "849857/849857 [==============================] - 136s 160us/step - loss: 0.1904 - val_loss: 0.1755\n",
      "Epoch 23/50\n",
      "849857/849857 [==============================] - 148s 174us/step - loss: 0.1904 - val_loss: 0.1770\n",
      "Epoch 24/50\n",
      "849857/849857 [==============================] - 34476s 41ms/step - loss: 0.1901 - val_loss: 0.1746\n",
      "Epoch 25/50\n",
      "849857/849857 [==============================] - 156s 184us/step - loss: 0.1901 - val_loss: 0.1755\n",
      "Epoch 26/50\n",
      "849857/849857 [==============================] - 152s 179us/step - loss: 0.1900 - val_loss: 0.1736\n",
      "Epoch 27/50\n",
      "849857/849857 [==============================] - 153s 179us/step - loss: 0.1897 - val_loss: 0.1759\n",
      "Epoch 28/50\n",
      "849857/849857 [==============================] - 159s 187us/step - loss: 0.1897 - val_loss: 0.1744\n",
      "Epoch 29/50\n",
      "849857/849857 [==============================] - 153s 180us/step - loss: 0.1894 - val_loss: 0.1779\n",
      "Epoch 30/50\n",
      "849857/849857 [==============================] - 1466s 2ms/step - loss: 0.1895 - val_loss: 0.1764\n",
      "Epoch 31/50\n",
      "849857/849857 [==============================] - 211s 248us/step - loss: 0.1893 - val_loss: 0.1768\n",
      "Epoch 32/50\n",
      "849857/849857 [==============================] - 215s 253us/step - loss: 0.1891 - val_loss: 0.1728\n",
      "Epoch 33/50\n",
      "849857/849857 [==============================] - 191s 224us/step - loss: 0.1892 - val_loss: 0.1781\n",
      "Epoch 34/50\n",
      "849857/849857 [==============================] - 191s 224us/step - loss: 0.1889 - val_loss: 0.1744\n",
      "Epoch 35/50\n",
      "849857/849857 [==============================] - 190s 224us/step - loss: 0.1890 - val_loss: 0.1729\n",
      "Epoch 36/50\n",
      "849857/849857 [==============================] - 194s 229us/step - loss: 0.1889 - val_loss: 0.1729\n",
      "Epoch 37/50\n",
      "849857/849857 [==============================] - 194s 228us/step - loss: 0.1887 - val_loss: 0.1772\n",
      "Epoch 38/50\n",
      "849857/849857 [==============================] - 683s 804us/step - loss: 0.1887 - val_loss: 0.1746\n",
      "Epoch 39/50\n",
      "849857/849857 [==============================] - 178s 209us/step - loss: 0.1886 - val_loss: 0.1750\n",
      "Epoch 40/50\n",
      "849857/849857 [==============================] - 185s 218us/step - loss: 0.1885 - val_loss: 0.1770\n",
      "Epoch 41/50\n",
      "849857/849857 [==============================] - 189s 223us/step - loss: 0.1886 - val_loss: 0.1762\n",
      "Epoch 42/50\n",
      "849857/849857 [==============================] - 4982s 6ms/step - loss: 0.1885 - val_loss: 0.1731\n",
      "Epoch 43/50\n",
      "849857/849857 [==============================] - 34217s 40ms/step - loss: 0.1882 - val_loss: 0.1736\n",
      "Epoch 44/50\n",
      "849857/849857 [==============================] - 156s 183us/step - loss: 0.1882 - val_loss: 0.1758\n",
      "Epoch 45/50\n",
      "849857/849857 [==============================] - 149s 175us/step - loss: 0.1882 - val_loss: 0.1740\n",
      "Epoch 46/50\n",
      "849857/849857 [==============================] - 130s 154us/step - loss: 0.1880 - val_loss: 0.1762\n",
      "Epoch 47/50\n",
      "849857/849857 [==============================] - 129s 152us/step - loss: 0.1882 - val_loss: 0.1744\n",
      "Epoch 48/50\n",
      "849857/849857 [==============================] - 126s 148us/step - loss: 0.1881 - val_loss: 0.1733\n",
      "Epoch 49/50\n",
      "849857/849857 [==============================] - 163s 192us/step - loss: 0.1879 - val_loss: 0.1750\n",
      "Epoch 50/50\n",
      "849857/849857 [==============================] - 162s 190us/step - loss: 0.1879 - val_loss: 0.1726\n"
     ]
    }
   ],
   "source": [
    "global_start_time = time.time()\n",
    "model = load_model('LSTM_power_consumption_model.h5')\n",
    "sequence_length = 10\n",
    "prediction_steps = 5\n",
    "epochs = 50\n",
    "model = build_model(prediction_steps)\n",
    "model.fit(x_train, y_train, batch_size=128, epochs=epochs, validation_split=0.05)\n",
    "predicted = model.predict(x_test)"
   ]
  },
  {
   "cell_type": "markdown",
   "metadata": {},
   "source": [
    "## Ploting Results"
   ]
  },
  {
   "cell_type": "code",
   "execution_count": 26,
   "metadata": {},
   "outputs": [
    {
     "data": {
      "image/png": "[encoded data removed]",
      "text/plain": [
       "<Figure size 432x288 with 1 Axes>"
      ]
     },
     "metadata": {},
     "output_type": "display_data"
    }
   ],
   "source": [
    "fig = plt.figure()\n",
    "ax = fig.add_subplot(1, 1, 1)\n",
    "#ax.plot(y_test[:test_hours_to_plot * 60, 0] + result_mean, label='Raw data')  # plot actual test series\n",
    "ax.plot(y_test[0:120, 0] + data_mean, label='Raw data')  # plot actual test series\n",
    "ax.plot(predicted[0:120,0]+data_mean, label='Predicted')\n",
    "plt.legend(loc='upper left')\n",
    "plt.ylabel('Actual Power in kilowatt')\n",
    "plt.xlabel('Time in minutes')\n",
    "plt.title('Predictions for first {0} minutes in test set'.format(2 * 60))\n",
    "plt.show()"
   ]
  },
  {
   "cell_type": "code",
   "execution_count": 23,
   "metadata": {},
   "outputs": [
    {
     "data": {
      "text/plain": [
       "0.141956158126422"
      ]
     },
     "execution_count": 23,
     "metadata": {},
     "output_type": "execute_result"
    }
   ],
   "source": [
    "error = y_test-predicted\n",
    "np.mean(error*error)/np.mean(y_test+data_mean)"
   ]
  }
 ],
 "metadata": {
  "kernelspec": {
   "display_name": "Python 3",
   "language": "python",
   "name": "python3"
  },
  "language_info": {
   "codemirror_mode": {
    "name": "ipython",
    "version": 3
   },
   "file_extension": ".py",
   "mimetype": "text/x-python",
   "name": "python",
   "nbconvert_exporter": "python",
   "pygments_lexer": "ipython3",
   "version": "3.6.5"
  }
 },
 "nbformat": 4,
 "nbformat_minor": 2
}
