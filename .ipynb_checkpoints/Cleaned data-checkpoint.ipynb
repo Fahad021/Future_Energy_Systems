{
 "cells": [
  {
   "cell_type": "markdown",
   "metadata": {},
   "source": [
    "# Initial data cleaning 10/13/18"
   ]
  },
  {
   "cell_type": "code",
   "execution_count": 92,
   "metadata": {},
   "outputs": [],
   "source": [
    "import pandas as pd\n",
    "import numpy as np\n",
    "import matplotlib as plt"
   ]
  },
  {
   "cell_type": "code",
   "execution_count": 93,
   "metadata": {
    "scrolled": true
   },
   "outputs": [],
   "source": [
    "data = pd.read_csv('dataport-export_sample.csv')"
   ]
  },
  {
   "cell_type": "code",
   "execution_count": 98,
   "metadata": {},
   "outputs": [],
   "source": [
    "data = data.loc[:, (data != 0).any(axis=0)]"
   ]
  },
  {
   "cell_type": "code",
   "execution_count": 95,
   "metadata": {},
   "outputs": [],
   "source": [
    "data['Non-atomic loads (HVAC&R)'] = data['air1'] + data['\\tfurnace1'] + data['\\trefrigerator1']\n",
    "data['Critical loads (lights, plug)'] = data['\\tlights_plugs1'] + data['\\tlights_plugs2'] + data['\\tmicrowave1'] + data['\\trange1'] + data['\\tdisposal1']\n",
    "data['Atomic loads (dishwasher)'] = data['\\tdishwasher1']\n",
    "data = data.groupby(['dataid']).sum()\n",
    "data = data.loc[:,['Non-atomic loads (HVAC&R)', 'Atomic loads (dishwasher)', 'Critical loads (lights, plug)']]"
   ]
  },
  {
   "cell_type": "code",
   "execution_count": 96,
   "metadata": {},
   "outputs": [
    {
     "data": {
      "text/html": [
       "<div>\n",
       "<style scoped>\n",
       "    .dataframe tbody tr th:only-of-type {\n",
       "        vertical-align: middle;\n",
       "    }\n",
       "\n",
       "    .dataframe tbody tr th {\n",
       "        vertical-align: top;\n",
       "    }\n",
       "\n",
       "    .dataframe thead th {\n",
       "        text-align: right;\n",
       "    }\n",
       "</style>\n",
       "<table border=\"1\" class=\"dataframe\">\n",
       "  <thead>\n",
       "    <tr style=\"text-align: right;\">\n",
       "      <th></th>\n",
       "      <th>Non-atomic loads (HVAC&amp;R)</th>\n",
       "      <th>Atomic loads (dishwasher)</th>\n",
       "      <th>Critical loads (lights, plug)</th>\n",
       "    </tr>\n",
       "    <tr>\n",
       "      <th>dataid</th>\n",
       "      <th></th>\n",
       "      <th></th>\n",
       "      <th></th>\n",
       "    </tr>\n",
       "  </thead>\n",
       "  <tbody>\n",
       "    <tr>\n",
       "      <th>2014-09-02 00:00:00-05</th>\n",
       "      <td>0.980300</td>\n",
       "      <td>0.0</td>\n",
       "      <td>0.082633</td>\n",
       "    </tr>\n",
       "    <tr>\n",
       "      <th>2014-09-02 01:00:00-05</th>\n",
       "      <td>0.351967</td>\n",
       "      <td>0.0</td>\n",
       "      <td>0.068733</td>\n",
       "    </tr>\n",
       "    <tr>\n",
       "      <th>2014-09-02 02:00:00-05</th>\n",
       "      <td>0.482450</td>\n",
       "      <td>0.0</td>\n",
       "      <td>0.053583</td>\n",
       "    </tr>\n",
       "    <tr>\n",
       "      <th>2014-09-02 03:00:00-05</th>\n",
       "      <td>0.539083</td>\n",
       "      <td>0.0</td>\n",
       "      <td>0.078000</td>\n",
       "    </tr>\n",
       "    <tr>\n",
       "      <th>2014-09-02 04:00:00-05</th>\n",
       "      <td>0.790583</td>\n",
       "      <td>0.0</td>\n",
       "      <td>0.119267</td>\n",
       "    </tr>\n",
       "  </tbody>\n",
       "</table>\n",
       "</div>"
      ],
      "text/plain": [
       "                        Non-atomic loads (HVAC&R)  Atomic loads (dishwasher)  \\\n",
       "dataid                                                                         \n",
       "2014-09-02 00:00:00-05                   0.980300                        0.0   \n",
       "2014-09-02 01:00:00-05                   0.351967                        0.0   \n",
       "2014-09-02 02:00:00-05                   0.482450                        0.0   \n",
       "2014-09-02 03:00:00-05                   0.539083                        0.0   \n",
       "2014-09-02 04:00:00-05                   0.790583                        0.0   \n",
       "\n",
       "                        Critical loads (lights, plug)  \n",
       "dataid                                                 \n",
       "2014-09-02 00:00:00-05                       0.082633  \n",
       "2014-09-02 01:00:00-05                       0.068733  \n",
       "2014-09-02 02:00:00-05                       0.053583  \n",
       "2014-09-02 03:00:00-05                       0.078000  \n",
       "2014-09-02 04:00:00-05                       0.119267  "
      ]
     },
     "execution_count": 96,
     "metadata": {},
     "output_type": "execute_result"
    }
   ],
   "source": [
    "data.head()"
   ]
  },
  {
   "cell_type": "code",
   "execution_count": null,
   "metadata": {},
   "outputs": [],
   "source": []
  }
 ],
 "metadata": {
  "kernelspec": {
   "display_name": "Python 3",
   "language": "python",
   "name": "python3"
  },
  "language_info": {
   "codemirror_mode": {
    "name": "ipython",
    "version": 3
   },
   "file_extension": ".py",
   "mimetype": "text/x-python",
   "name": "python",
   "nbconvert_exporter": "python",
   "pygments_lexer": "ipython3",
   "version": "3.6.5"
  }
 },
 "nbformat": 4,
 "nbformat_minor": 2
}
